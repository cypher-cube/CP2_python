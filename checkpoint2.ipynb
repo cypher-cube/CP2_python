{
  "nbformat": 4,
  "nbformat_minor": 0,
  "metadata": {
    "colab": {
      "name": "Untitled1.ipynb",
      "provenance": [],
      "toc_visible": true
    },
    "kernelspec": {
      "name": "python3",
      "display_name": "Python 3"
    },
    "language_info": {
      "name": "python"
    }
  },
  "cells": [
    {
      "cell_type": "code",
      "metadata": {
        "colab": {
          "base_uri": "https://localhost:8080/"
        },
        "id": "DCvjuPXU5OSn",
        "outputId": "3bcba70a-abe4-449b-aefc-c5100969de3b"
      },
      "source": [
        "l=[]\n",
        "for i in range(2000,3201):\n",
        "  if (i%7==0 and i%5!=0):\n",
        "    l.append(i)\n",
        "print(l)"
      ],
      "execution_count": 20,
      "outputs": [
        {
          "output_type": "stream",
          "text": [
            "[2002, 2009, 2016, 2023, 2037, 2044, 2051, 2058, 2072, 2079, 2086, 2093, 2107, 2114, 2121, 2128, 2142, 2149, 2156, 2163, 2177, 2184, 2191, 2198, 2212, 2219, 2226, 2233, 2247, 2254, 2261, 2268, 2282, 2289, 2296, 2303, 2317, 2324, 2331, 2338, 2352, 2359, 2366, 2373, 2387, 2394, 2401, 2408, 2422, 2429, 2436, 2443, 2457, 2464, 2471, 2478, 2492, 2499, 2506, 2513, 2527, 2534, 2541, 2548, 2562, 2569, 2576, 2583, 2597, 2604, 2611, 2618, 2632, 2639, 2646, 2653, 2667, 2674, 2681, 2688, 2702, 2709, 2716, 2723, 2737, 2744, 2751, 2758, 2772, 2779, 2786, 2793, 2807, 2814, 2821, 2828, 2842, 2849, 2856, 2863, 2877, 2884, 2891, 2898, 2912, 2919, 2926, 2933, 2947, 2954, 2961, 2968, 2982, 2989, 2996, 3003, 3017, 3024, 3031, 3038, 3052, 3059, 3066, 3073, 3087, 3094, 3101, 3108, 3122, 3129, 3136, 3143, 3157, 3164, 3171, 3178, 3192, 3199]\n"
          ],
          "name": "stdout"
        }
      ]
    },
    {
      "cell_type": "code",
      "metadata": {
        "colab": {
          "base_uri": "https://localhost:8080/"
        },
        "id": "8cWrpfDi-iI_",
        "outputId": "8790d0d2-44ca-4d82-d91e-dc962ac914dd"
      },
      "source": [
        "n=int(input(\"enter a positif number\"))\n",
        "while(n<0):\n",
        "  n=int(input(\"enter a positif number\"))\n",
        "factorial=1\n",
        "while(n>0):\n",
        "  factorial*=n\n",
        "  n-=1\n",
        "print(factorial)"
      ],
      "execution_count": 6,
      "outputs": [
        {
          "output_type": "stream",
          "text": [
            "enter a positif number65\n",
            "8247650592082470666723170306785496252186258551345437492922123134388955774976000000000000000\n"
          ],
          "name": "stdout"
        }
      ]
    },
    {
      "cell_type": "code",
      "metadata": {
        "colab": {
          "base_uri": "https://localhost:8080/"
        },
        "id": "2zvzh7Bc_boB",
        "outputId": "9cb60849-3a39-4e34-db3e-dcb0be54976b"
      },
      "source": [
        "n=int(input(\"enter a positif number\"))\n",
        "while(n<0):\n",
        "  n=int(input(\"enter a positif number\"))\n",
        "d={}\n",
        "for i in range (1,n+1):\n",
        "  d[i]=i*i\n",
        "print(d)"
      ],
      "execution_count": 9,
      "outputs": [
        {
          "output_type": "stream",
          "text": [
            "enter a positif number8\n",
            "{1: 1, 2: 4, 3: 9, 4: 16, 5: 25, 6: 36, 7: 49, 8: 64}\n"
          ],
          "name": "stdout"
        }
      ]
    },
    {
      "cell_type": "code",
      "metadata": {
        "colab": {
          "base_uri": "https://localhost:8080/"
        },
        "id": "ni5669IE_-ct",
        "outputId": "908fb7ab-1d12-4bc4-a17f-15fd809124f3"
      },
      "source": [
        "ch=input(\"enter a sting \")\n",
        "n=int(input(\"enter a positif number in the range of the string length \"))\n",
        "while(n<0 or n>len(ch)-1):\n",
        "  n=int(input(\"enter a positif number in the range of the string length \"))\n",
        "ch=ch[0:n]+ch[n+1:]\n",
        "print(ch)"
      ],
      "execution_count": 15,
      "outputs": [
        {
          "output_type": "stream",
          "text": [
            "enter a sting abcdefgh\n",
            "enter a positif number in the range of the string length 4\n",
            "abcdfgh\n"
          ],
          "name": "stdout"
        }
      ]
    },
    {
      "cell_type": "code",
      "metadata": {
        "colab": {
          "base_uri": "https://localhost:8080/"
        },
        "id": "LQ2-qr7PBq5Q",
        "outputId": "92bc7fd9-1620-4490-8e35-d60feb36215f"
      },
      "source": [
        "import numpy as np\n",
        "tab=np.random.randn(3,4)\n",
        "for i in tab:\n",
        "  l.append(tab.tolist())\n",
        "print(l)"
      ],
      "execution_count": 28,
      "outputs": [
        {
          "output_type": "stream",
          "text": [
            "[[0.6483500265501827, -0.46252532995243234, -0.2590377821260074, 0.4138089947561308], [0.6463508984281711, 0.011313608854440984, -0.5681824919203737, -0.08662772746396721], [0.02532821200017366, 0.756162356039504, 0.8236099941346039, -0.30914286226590765], [[1.143078488410009, 0.1944609107782344, 0.03188316408464642, 0.8667107413377885], [0.01144408914818676, -0.895817699705921, 1.0922509759913195, -1.6012043802946025], [0.7291773186485261, -0.2640262969933034, -0.9076627491727144, 0.4463477946466383]], [[1.143078488410009, 0.1944609107782344, 0.03188316408464642, 0.8667107413377885], [0.01144408914818676, -0.895817699705921, 1.0922509759913195, -1.6012043802946025], [0.7291773186485261, -0.2640262969933034, -0.9076627491727144, 0.4463477946466383]], [[1.143078488410009, 0.1944609107782344, 0.03188316408464642, 0.8667107413377885], [0.01144408914818676, -0.895817699705921, 1.0922509759913195, -1.6012043802946025], [0.7291773186485261, -0.2640262969933034, -0.9076627491727144, 0.4463477946466383]], [[-1.525917639049022, 0.028809991206367815, -0.28573374991424855, 0.0013213264147467652], [0.07442069640208547, -0.3620406383075353, -0.9048840745977748, -1.059215083375622], [-0.06027576642125292, -0.4622371988444103, 0.19696604315868924, 0.010549712736901178]], [[-1.525917639049022, 0.028809991206367815, -0.28573374991424855, 0.0013213264147467652], [0.07442069640208547, -0.3620406383075353, -0.9048840745977748, -1.059215083375622], [-0.06027576642125292, -0.4622371988444103, 0.19696604315868924, 0.010549712736901178]], [[-1.525917639049022, 0.028809991206367815, -0.28573374991424855, 0.0013213264147467652], [0.07442069640208547, -0.3620406383075353, -0.9048840745977748, -1.059215083375622], [-0.06027576642125292, -0.4622371988444103, 0.19696604315868924, 0.010549712736901178]]]\n"
          ],
          "name": "stdout"
        }
      ]
    },
    {
      "cell_type": "code",
      "metadata": {
        "colab": {
          "base_uri": "https://localhost:8080/"
        },
        "id": "ny_G68kGFdn0",
        "outputId": "297520d9-8f61-402d-8937-8671d2620e8c"
      },
      "source": [
        "import numpy as np\n",
        "tab1=np.random.randn(3)\n",
        "tab2=np.random.randn(3)\n",
        "arr=np.cov(tab1,tab2)\n",
        "print(arr)"
      ],
      "execution_count": 32,
      "outputs": [
        {
          "output_type": "stream",
          "text": [
            "[[1.39775943 1.55842493]\n",
            " [1.55842493 3.32028131]]\n"
          ],
          "name": "stdout"
        }
      ]
    },
    {
      "cell_type": "code",
      "metadata": {
        "colab": {
          "base_uri": "https://localhost:8080/"
        },
        "id": "awCGXZK5VrYV",
        "outputId": "ff463ab4-4202-48cf-8b82-74e964cb53ce"
      },
      "source": [
        "import math\n",
        "ch=input(\"enter the values for D separated by a comma\")\n",
        "l=ch.split(\",\")\n",
        "q=[]\n",
        "h=30\n",
        "c=50\n",
        "print(len(l))\n",
        "for i in range(len(l)):\n",
        "  q.append(int(math.sqrt((2*c*int(l[i]))/h)))\n",
        "print(q)\n"
      ],
      "execution_count": 42,
      "outputs": [
        {
          "output_type": "stream",
          "text": [
            "enter the values for D separated by a comma100,150,180\n",
            "3\n",
            "[18, 22, 24]\n"
          ],
          "name": "stdout"
        }
      ]
    }
  ]
}