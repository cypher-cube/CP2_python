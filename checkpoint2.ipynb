{
  "nbformat": 4,
  "nbformat_minor": 0,
  "metadata": {
    "colab": {
      "name": "Untitled1.ipynb",
      "provenance": [],
      "toc_visible": true
    },
    "kernelspec": {
      "name": "python3",
      "display_name": "Python 3"
    },
    "language_info": {
      "name": "python"
    }
  },
  "cells": [
    {
      "cell_type": "code",
      "metadata": {
        "colab": {
          "base_uri": "https://localhost:8080/"
        },
        "id": "DCvjuPXU5OSn",
        "outputId": "3bcba70a-abe4-449b-aefc-c5100969de3b"
      },
      "source": [
        "l=[]\n",
        "for i in range(2000,3201):\n",
        "  if (i%7==0 and i%5!=0):\n",
        "    l.append(i)\n",
        "print(l)"
      ],
      "execution_count": 20,
      "outputs": [
        {
          "output_type": "stream",
          "text": [
            "[2002, 2009, 2016, 2023, 2037, 2044, 2051, 2058, 2072, 2079, 2086, 2093, 2107, 2114, 2121, 2128, 2142, 2149, 2156, 2163, 2177, 2184, 2191, 2198, 2212, 2219, 2226, 2233, 2247, 2254, 2261, 2268, 2282, 2289, 2296, 2303, 2317, 2324, 2331, 2338, 2352, 2359, 2366, 2373, 2387, 2394, 2401, 2408, 2422, 2429, 2436, 2443, 2457, 2464, 2471, 2478, 2492, 2499, 2506, 2513, 2527, 2534, 2541, 2548, 2562, 2569, 2576, 2583, 2597, 2604, 2611, 2618, 2632, 2639, 2646, 2653, 2667, 2674, 2681, 2688, 2702, 2709, 2716, 2723, 2737, 2744, 2751, 2758, 2772, 2779, 2786, 2793, 2807, 2814, 2821, 2828, 2842, 2849, 2856, 2863, 2877, 2884, 2891, 2898, 2912, 2919, 2926, 2933, 2947, 2954, 2961, 2968, 2982, 2989, 2996, 3003, 3017, 3024, 3031, 3038, 3052, 3059, 3066, 3073, 3087, 3094, 3101, 3108, 3122, 3129, 3136, 3143, 3157, 3164, 3171, 3178, 3192, 3199]\n"
          ],
          "name": "stdout"
        }
      ]
    },
    {
      "cell_type": "code",
      "metadata": {
        "colab": {
          "base_uri": "https://localhost:8080/"
        },
        "id": "8cWrpfDi-iI_",
        "outputId": "8790d0d2-44ca-4d82-d91e-dc962ac914dd"
      },
      "source": [
        "n=int(input(\"enter a positif number\"))\n",
        "while(n<0):\n",
        "  n=int(input(\"enter a positif number\"))\n",
        "factorial=1\n",
        "while(n>0):\n",
        "  factorial*=n\n",
        "  n-=1\n",
        "print(factorial)"
      ],
      "execution_count": 6,
      "outputs": [
        {
          "output_type": "stream",
          "text": [
            "enter a positif number65\n",
            "8247650592082470666723170306785496252186258551345437492922123134388955774976000000000000000\n"
          ],
          "name": "stdout"
        }
      ]
    },
    {
      "cell_type": "code",
      "metadata": {
        "colab": {
          "base_uri": "https://localhost:8080/"
        },
        "id": "2zvzh7Bc_boB",
        "outputId": "9cb60849-3a39-4e34-db3e-dcb0be54976b"
      },
      "source": [
        "n=int(input(\"enter a positif number\"))\n",
        "while(n<0):\n",
        "  n=int(input(\"enter a positif number\"))\n",
        "d={}\n",
        "for i in range (1,n+1):\n",
        "  d[i]=i*i\n",
        "print(d)"
      ],
      "execution_count": 9,
      "outputs": [
        {
          "output_type": "stream",
          "text": [
            "enter a positif number8\n",
            "{1: 1, 2: 4, 3: 9, 4: 16, 5: 25, 6: 36, 7: 49, 8: 64}\n"
          ],
          "name": "stdout"
        }
      ]
    },
    {
      "cell_type": "code",
      "metadata": {
        "colab": {
          "base_uri": "https://localhost:8080/"
        },
        "id": "ni5669IE_-ct",
        "outputId": "908fb7ab-1d12-4bc4-a17f-15fd809124f3"
      },
      "source": [
        "ch=input(\"enter a sting \")\n",
        "n=int(input(\"enter a positif number in the range of the string length \"))\n",
        "while(n<0 or n>len(ch)-1):\n",
        "  n=int(input(\"enter a positif number in the range of the string length \"))\n",
        "ch=ch[0:n]+ch[n+1:]\n",
        "print(ch)"
      ],
      "execution_count": 15,
      "outputs": [
        {
          "output_type": "stream",
          "text": [
            "enter a sting abcdefgh\n",
            "enter a positif number in the range of the string length 4\n",
            "abcdfgh\n"
          ],
          "name": "stdout"
        }
      ]
    },
    {
      "cell_type": "code",
      "metadata": {
        "colab": {
          "base_uri": "https://localhost:8080/"
        },
        "id": "LQ2-qr7PBq5Q",
        "outputId": "dcc47a10-e398-4fd1-d0a0-2b1c29e1081e"
      },
      "source": [
        "import numpy as np\n",
        "tab=np.random.randn(3,4)\n",
        "print(tab)\n",
        "l=[]\n",
        "print(tab.shape[0])\n",
        "for i in range (tab.shape[0]):\n",
        "  l.append(tab[i].tolist())\n",
        "print(l)"
      ],
      "execution_count": 73,
      "outputs": [
        {
          "output_type": "stream",
          "text": [
            "[[-0.67615742 -1.30004202 -0.26878728  0.30160801]\n",
            " [-0.26491952 -0.89357489  1.16787161 -0.43355158]\n",
            " [ 0.11186149  0.95103617 -2.27705245 -2.00057469]]\n",
            "3\n",
            "['100', '150', '180', [1.2012962531672349, -0.6503140975021593, 1.5295815603027956, -0.5442564125198731], [-0.8537670328339512, 2.3199823125149894, -1.225536401137323, -1.138313592588963], [0.7798806835524408, -0.5484465193789053, -1.1993270911032508, -0.990807357388362], [-0.6761574220738207, -1.3000420240905768, -0.26878728278025327, 0.3016080067922678], [-0.2649195164358035, -0.8935748920506358, 1.1678716062452086, -0.43355158050937587], [0.11186148711183608, 0.9510361693484067, -2.2770524528896976, -2.000574685386615]]\n"
          ],
          "name": "stdout"
        }
      ]
    },
    {
      "cell_type": "code",
      "metadata": {
        "colab": {
          "base_uri": "https://localhost:8080/"
        },
        "id": "ny_G68kGFdn0",
        "outputId": "297520d9-8f61-402d-8937-8671d2620e8c"
      },
      "source": [
        "import numpy as np\n",
        "tab1=np.random.randn(3)\n",
        "tab2=np.random.randn(3)\n",
        "arr=np.cov(tab1,tab2)\n",
        "print(arr)"
      ],
      "execution_count": 32,
      "outputs": [
        {
          "output_type": "stream",
          "text": [
            "[[1.39775943 1.55842493]\n",
            " [1.55842493 3.32028131]]\n"
          ],
          "name": "stdout"
        }
      ]
    },
    {
      "cell_type": "code",
      "metadata": {
        "colab": {
          "base_uri": "https://localhost:8080/"
        },
        "id": "awCGXZK5VrYV",
        "outputId": "ff463ab4-4202-48cf-8b82-74e964cb53ce"
      },
      "source": [
        "import math\n",
        "ch=input(\"enter the values for D separated by a comma\")\n",
        "l=ch.split(\",\")\n",
        "q=[]\n",
        "h=30\n",
        "c=50\n",
        "print(len(l))\n",
        "for i in range(len(l)):\n",
        "  q.append(int(math.sqrt((2*c*int(l[i]))/h)))\n",
        "print(q)\n"
      ],
      "execution_count": 42,
      "outputs": [
        {
          "output_type": "stream",
          "text": [
            "enter the values for D separated by a comma100,150,180\n",
            "3\n",
            "[18, 22, 24]\n"
          ],
          "name": "stdout"
        }
      ]
    }
  ]
}